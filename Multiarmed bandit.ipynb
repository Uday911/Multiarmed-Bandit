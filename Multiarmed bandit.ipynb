{
 "cells": [
  {
   "cell_type": "code",
   "execution_count": 1,
   "metadata": {},
   "outputs": [],
   "source": [
    "import numpy as np\n",
    "import random\n",
    "import matplotlib.pyplot as plt\n",
    "import seaborn as sns\n",
    "from IPython.display import clear_output"
   ]
  },
  {
   "cell_type": "code",
   "execution_count": 2,
   "metadata": {},
   "outputs": [],
   "source": [
    "def rand_cash(prob):\n",
    "    return np.random.choice([0,10],p=prob)"
   ]
  },
  {
   "cell_type": "code",
   "execution_count": 3,
   "metadata": {},
   "outputs": [],
   "source": [
    "def create_bandit(no_arms):\n",
    "    bandit_dict ={}\n",
    "    for i in range(no_arms):\n",
    "        prob = random.random()\n",
    "        bandit_dict[i] = [prob,1-prob]\n",
    "    return bandit_dict"
   ]
  },
  {
   "cell_type": "code",
   "execution_count": 4,
   "metadata": {},
   "outputs": [],
   "source": [
    "# bandit_dict = {1:[0.47,0.53],2:[0.27,0.73],3:[0.45,0.55],4:[0.69,0.31],5:[0.47,0.53],6:[0.27,0.73],7:[0.45,0.55],8:[0.69,0.31]}"
   ]
  },
  {
   "cell_type": "code",
   "execution_count": 5,
   "metadata": {},
   "outputs": [],
   "source": [
    "def pull(arm,bandit_dict):\n",
    "    return rand_cash(bandit_dict[arm])"
   ]
  },
  {
   "cell_type": "code",
   "execution_count": 6,
   "metadata": {},
   "outputs": [],
   "source": [
    "#     print('action',arm)\n",
    "#     print('reward',reward)\n",
    "#     print('Increasing visit count at ',actions.index(arm))\n",
    "#     print('N',N)\n",
    "#     print('new Q value',(reward-Q[actions.index(arm)])/N[actions.index(arm)])\n",
    "#     print('updated Q',Q)"
   ]
  },
  {
   "cell_type": "code",
   "execution_count": 7,
   "metadata": {},
   "outputs": [],
   "source": [
    "def get_note(no_arms):\n",
    "    actions = list(range(no_arms))\n",
    "    Q = np.zeros(no_arms)\n",
    "    N = np.zeros(no_arms)\n",
    "    return actions,Q,N"
   ]
  },
  {
   "cell_type": "code",
   "execution_count": 8,
   "metadata": {},
   "outputs": [],
   "source": [
    "### Recreate bandit\n",
    "no_arms = 10\n",
    "bandit_dict = create_bandit(no_arms=no_arms)"
   ]
  },
  {
   "cell_type": "code",
   "execution_count": 9,
   "metadata": {},
   "outputs": [
    {
     "data": {
      "text/plain": [
       "{0: [0.986724361403828, 0.01327563859617198],\n",
       " 1: [0.5955453789955268, 0.40445462100447316],\n",
       " 2: [0.3982475837233248, 0.6017524162766752],\n",
       " 3: [0.9663187446993843, 0.03368125530061572],\n",
       " 4: [0.05782138813254145, 0.9421786118674585],\n",
       " 5: [0.08819158573876162, 0.9118084142612384],\n",
       " 6: [0.18249086834325268, 0.8175091316567473],\n",
       " 7: [0.3788475607100852, 0.6211524392899148],\n",
       " 8: [0.5742740586389333, 0.4257259413610667],\n",
       " 9: [0.3934584082342517, 0.6065415917657483]}"
      ]
     },
     "execution_count": 9,
     "metadata": {},
     "output_type": "execute_result"
    }
   ],
   "source": [
    "bandit_dict"
   ]
  },
  {
   "cell_type": "code",
   "execution_count": 10,
   "metadata": {},
   "outputs": [],
   "source": [
    "### Clear records\n",
    "epsilon = 0.01\n",
    "actions,Q,N = get_note(no_arms=no_arms)"
   ]
  },
  {
   "cell_type": "code",
   "execution_count": 11,
   "metadata": {},
   "outputs": [
    {
     "data": {
      "text/plain": [
       "array([0., 0., 0., 0., 0., 0., 0., 0., 0., 0.])"
      ]
     },
     "execution_count": 11,
     "metadata": {},
     "output_type": "execute_result"
    }
   ],
   "source": [
    "Q"
   ]
  },
  {
   "cell_type": "code",
   "execution_count": null,
   "metadata": {},
   "outputs": [
    {
     "name": "stdout",
     "output_type": "stream",
     "text": [
      "{0: '0.09', 1: '3.15', 2: '6.88', 3: '0.42', 4: '9.42', 5: '8.54', 6: '8.21', 7: '6.58', 8: '3.17', 9: '5.86'}\n"
     ]
    }
   ],
   "source": [
    "avg_reward = []\n",
    "for j in range(500):\n",
    "#     actions_dist = []\n",
    "    rewards = []\n",
    "    for i in range(j):\n",
    "        if epsilon > random.random():\n",
    "            arm = random.choice(actions)\n",
    "        else:\n",
    "            arm = actions[Q.argmax()]\n",
    "\n",
    "#         actions_dist.append(arm)\n",
    "        reward = pull(arm,bandit_dict)\n",
    "        rewards.append(reward)\n",
    "        N[arm] += 1\n",
    "        Q[arm] += (reward-Q[arm])/N[arm]\n",
    "        clear_output(wait=True)\n",
    "        print(dict(zip(actions,[\"{:.2f}\".format(i) for i in Q])))\n",
    "    avg_reward.append(np.mean(rewards))"
   ]
  },
  {
   "cell_type": "code",
   "execution_count": 57,
   "metadata": {},
   "outputs": [
    {
     "data": {
      "text/plain": [
       "array([4.37000e+02, 1.35000e+02, 3.24000e+02, 1.48000e+02, 1.22000e+02,\n",
       "       1.25000e+02, 1.16802e+05, 6.42500e+03, 1.17000e+02, 1.15000e+02])"
      ]
     },
     "execution_count": 57,
     "metadata": {},
     "output_type": "execute_result"
    }
   ],
   "source": [
    "N"
   ]
  },
  {
   "cell_type": "code",
   "execution_count": 58,
   "metadata": {},
   "outputs": [
    {
     "data": {
      "text/plain": [
       "array([0.27459954, 6.44444444, 6.97530864, 1.35135135, 5.24590164,\n",
       "       3.36      , 7.49173816, 7.12062257, 4.01709402, 2.7826087 ])"
      ]
     },
     "execution_count": 58,
     "metadata": {},
     "output_type": "execute_result"
    }
   ],
   "source": [
    "Q"
   ]
  },
  {
   "cell_type": "code",
   "execution_count": 37,
   "metadata": {},
   "outputs": [
    {
     "data": {
      "text/plain": [
       "{0: [0.5036708417806746, 0.49632915821932544],\n",
       " 1: [0.9813318770660893, 0.018668122933910736],\n",
       " 2: [0.8486056548441723, 0.15139434515582773],\n",
       " 3: [0.9404374986193097, 0.0595625013806903],\n",
       " 4: [0.15247831522115185, 0.8475216847788482],\n",
       " 5: [0.03912784542474457, 0.9608721545752554],\n",
       " 6: [0.40391033572712987, 0.5960896642728701],\n",
       " 7: [0.9607444993667134, 0.039255500633286644]}"
      ]
     },
     "execution_count": 37,
     "metadata": {},
     "output_type": "execute_result"
    }
   ],
   "source": [
    "bandit_dict"
   ]
  },
  {
   "cell_type": "code",
   "execution_count": 38,
   "metadata": {},
   "outputs": [
    {
     "data": {
      "text/plain": [
       "[<matplotlib.lines.Line2D at 0x7f5d10a38518>]"
      ]
     },
     "execution_count": 38,
     "metadata": {},
     "output_type": "execute_result"
    },
    {
     "data": {
      "image/png": "[encoded data removed]",
      "text/plain": [
       "<Figure size 432x288 with 1 Axes>"
      ]
     },
     "metadata": {},
     "output_type": "display_data"
    }
   ],
   "source": [
    "plt.plot(avg_reward)"
   ]
  },
  {
   "cell_type": "markdown",
   "metadata": {},
   "source": [
    "### Pytorch Study"
   ]
  },
  {
   "cell_type": "code",
   "execution_count": 2,
   "metadata": {},
   "outputs": [],
   "source": [
    "import torch\n",
    "import torch.nn as nn\n",
    "import torch.optim as optim"
   ]
  },
  {
   "cell_type": "code",
   "execution_count": 3,
   "metadata": {},
   "outputs": [],
   "source": [
    "class Net(nn.Module):\n",
    "    def __init__(self):\n",
    "        super(Net,self).__init__()\n",
    "        self.fc1 = nn.Linear(1,10)\n",
    "#         self.softmax1 = nn.Softmax()\n",
    "            \n",
    "    def forward(self,x):\n",
    "#         x = self.softmax1(self.fc1(x))\n",
    "        x = self.fc1(x)\n",
    "        return x"
   ]
  },
  {
   "cell_type": "code",
   "execution_count": 35,
   "metadata": {},
   "outputs": [],
   "source": [
    "net = Net()"
   ]
  },
  {
   "cell_type": "code",
   "execution_count": 36,
   "metadata": {},
   "outputs": [],
   "source": [
    "vl = torch.FloatTensor([1])"
   ]
  },
  {
   "cell_type": "code",
   "execution_count": 37,
   "metadata": {},
   "outputs": [
    {
     "data": {
      "text/plain": [
       "tensor([1.])"
      ]
     },
     "execution_count": 37,
     "metadata": {},
     "output_type": "execute_result"
    }
   ],
   "source": [
    "vl"
   ]
  },
  {
   "cell_type": "code",
   "execution_count": 38,
   "metadata": {},
   "outputs": [],
   "source": [
    "target = torch.LongTensor([0])\n",
    "optimizer1 = optim.Adam(params=net.parameters(),lr=0.1)\n",
    "sm = nn.Softmax()\n",
    "loss = nn.CrossEntropyLoss()"
   ]
  },
  {
   "cell_type": "code",
   "execution_count": 39,
   "metadata": {},
   "outputs": [
    {
     "data": {
      "text/plain": [
       "tensor([0])"
      ]
     },
     "execution_count": 39,
     "metadata": {},
     "output_type": "execute_result"
    }
   ],
   "source": [
    "target"
   ]
  },
  {
   "cell_type": "code",
   "execution_count": 40,
   "metadata": {},
   "outputs": [
    {
     "data": {
      "text/plain": [
       "tensor([ 0.9120,  0.8376,  0.0968, -1.0342, -1.0675,  0.5436, -0.2330, -0.3333,\n",
       "        -1.4969,  0.7558], grad_fn=<AddBackward0>)"
      ]
     },
     "execution_count": 40,
     "metadata": {},
     "output_type": "execute_result"
    }
   ],
   "source": [
    "net(vl)"
   ]
  },
  {
   "cell_type": "code",
   "execution_count": 41,
   "metadata": {},
   "outputs": [
    {
     "name": "stderr",
     "output_type": "stream",
     "text": [
      "/Application/DataScience/Anaconda/anaconda3/lib/python3.6/site-packages/ipykernel_launcher.py:1: UserWarning: Implicit dimension choice for softmax has been deprecated. Change the call to include dim=X as an argument.\n",
      "  \"\"\"Entry point for launching an IPython kernel.\n"
     ]
    },
    {
     "data": {
      "text/plain": [
       "tensor([0.2043, 0.1896, 0.0904, 0.0292, 0.0282, 0.1413, 0.0650, 0.0588, 0.0184,\n",
       "        0.1747], grad_fn=<SoftmaxBackward>)"
      ]
     },
     "execution_count": 41,
     "metadata": {},
     "output_type": "execute_result"
    }
   ],
   "source": [
    "sm(net(vl))"
   ]
  },
  {
   "cell_type": "code",
   "execution_count": 30,
   "metadata": {},
   "outputs": [
    {
     "data": {
      "text/plain": [
       "tensor([1.])"
      ]
     },
     "execution_count": 30,
     "metadata": {},
     "output_type": "execute_result"
    }
   ],
   "source": [
    "vl[0].view(-1)"
   ]
  },
  {
   "cell_type": "code",
   "execution_count": 31,
   "metadata": {},
   "outputs": [
    {
     "data": {
      "text/plain": [
       "tensor([0])"
      ]
     },
     "execution_count": 31,
     "metadata": {},
     "output_type": "execute_result"
    }
   ],
   "source": [
    "target"
   ]
  },
  {
   "cell_type": "code",
   "execution_count": 42,
   "metadata": {},
   "outputs": [
    {
     "name": "stdout",
     "output_type": "stream",
     "text": [
      "Before backprop\n",
      "tensor([ 0.9120,  0.8376,  0.0968, -1.0342, -1.0675,  0.5436, -0.2330, -0.3333,\n",
      "        -1.4969,  0.7558], grad_fn=<AddBackward0>)\n",
      "tensor([0.2043, 0.1896, 0.0904, 0.0292, 0.0282, 0.1413, 0.0650, 0.0588, 0.0184,\n",
      "        0.1747], grad_fn=<SoftmaxBackward>)\n",
      "After backprop\n",
      "tensor([ 1.1120,  0.6376, -0.1031, -1.2342, -1.2675,  0.3436, -0.4330, -0.5333,\n",
      "        -1.6969,  0.5558], grad_fn=<AddBackward0>)\n",
      "tensor([0.2769, 0.1723, 0.0822, 0.0265, 0.0256, 0.1284, 0.0591, 0.0534, 0.0167,\n",
      "        0.1588], grad_fn=<SoftmaxBackward>)\n"
     ]
    },
    {
     "name": "stderr",
     "output_type": "stream",
     "text": [
      "/Application/DataScience/Anaconda/anaconda3/lib/python3.6/site-packages/ipykernel_launcher.py:5: UserWarning: Implicit dimension choice for softmax has been deprecated. Change the call to include dim=X as an argument.\n",
      "  \"\"\"\n",
      "/Application/DataScience/Anaconda/anaconda3/lib/python3.6/site-packages/ipykernel_launcher.py:11: UserWarning: Implicit dimension choice for softmax has been deprecated. Change the call to include dim=X as an argument.\n",
      "  # This is added back by InteractiveShellApp.init_path()\n"
     ]
    }
   ],
   "source": [
    "optimizer1.zero_grad()\n",
    "out = net(vl.view(-1))\n",
    "print(\"Before backprop\")\n",
    "print(out)\n",
    "print(sm(out))\n",
    "loss_v = loss(out.view(-1,10), target)\n",
    "loss_v.backward()\n",
    "optimizer1.step()\n",
    "print(\"After backprop\")\n",
    "print(net(vl.view(-1)))\n",
    "print(sm(net(vl.view(-1))))"
   ]
  },
  {
   "cell_type": "code",
   "execution_count": 44,
   "metadata": {},
   "outputs": [
    {
     "name": "stdout",
     "output_type": "stream",
     "text": [
      "------------- tensor(1.) ------------------\n",
      "tensor([ 0.5738, -0.0998, -0.0050, -0.9412,  1.2318,  1.1082,  0.7452,  0.4684,\n",
      "         0.6598,  0.6610], grad_fn=<AddBackward0>)\n",
      "tensor([0.0981, 0.0500, 0.0550, 0.0216, 0.1894, 0.1674, 0.1164, 0.0883, 0.1069,\n",
      "        0.1070], grad_fn=<SoftmaxBackward>)\n",
      "tensor([ 0.5938, -0.1198, -0.0250, -0.9612,  1.2118,  1.0882,  0.7252,  0.4484,\n",
      "         0.6398,  0.6410], grad_fn=<AddBackward0>)\n",
      "tensor([0.1017, 0.0498, 0.0548, 0.0215, 0.1886, 0.1667, 0.1160, 0.0879, 0.1065,\n",
      "        0.1066], grad_fn=<SoftmaxBackward>)\n",
      "------------- tensor(2.) ------------------\n",
      "tensor([ 0.2933,  0.2178, -0.2340, -1.7817,  1.7833,  1.9486,  0.7607,  1.1040,\n",
      "         0.4156,  1.3811], grad_fn=<AddBackward0>)\n",
      "tensor([0.0494, 0.0458, 0.0291, 0.0062, 0.2190, 0.2584, 0.0788, 0.1110, 0.0558,\n",
      "        0.1465], grad_fn=<SoftmaxBackward>)\n",
      "tensor([ 0.3225,  0.1884, -0.2634, -1.8092,  1.7543,  1.9205,  0.7310,  1.0752,\n",
      "         0.3862,  1.3526], grad_fn=<AddBackward0>)\n",
      "tensor([0.0522, 0.0456, 0.0290, 0.0062, 0.2183, 0.2578, 0.0785, 0.1107, 0.0556,\n",
      "        0.1461], grad_fn=<SoftmaxBackward>)\n",
      "------------- tensor(3.) ------------------\n",
      "tensor([ 0.0316,  0.5163, -0.4825, -2.6393,  2.3163,  2.7718,  0.7565,  1.7214,\n",
      "         0.1520,  2.0834], grad_fn=<AddBackward0>)\n",
      "tensor([0.0222, 0.0361, 0.0133, 0.0015, 0.2183, 0.3442, 0.0459, 0.1204, 0.0251,\n",
      "        0.1729], grad_fn=<SoftmaxBackward>)\n",
      "tensor([ 0.0701,  0.4770, -0.5203, -2.6715,  2.2779,  2.7351,  0.7175,  1.6834,\n",
      "         0.1143,  2.0459], grad_fn=<AddBackward0>)\n",
      "tensor([0.0239, 0.0360, 0.0133, 0.0015, 0.2177, 0.3440, 0.0457, 0.1202, 0.0250,\n",
      "        0.1727], grad_fn=<SoftmaxBackward>)\n",
      "------------- tensor(4.) ------------------\n",
      "tensor([-0.2113,  0.7951, -0.7491, -3.5100,  2.8304,  3.5774,  0.7330,  2.3202,\n",
      "        -0.1296,  2.7676], grad_fn=<AddBackward0>)\n",
      "tensor([9.4883e-03, 2.5958e-02, 5.5415e-03, 3.5042e-04, 1.9870e-01, 4.1939e-01,\n",
      "        2.4395e-02, 1.1929e-01, 1.0296e-02, 1.8659e-01],\n",
      "       grad_fn=<SoftmaxBackward>)\n",
      "tensor([-0.1631,  0.7459, -0.7932, -3.5446,  2.7820,  3.5317,  0.6856,  2.2724,\n",
      "        -0.1735,  2.7205], grad_fn=<AddBackward0>)\n",
      "tensor([1.0425e-02, 2.5873e-02, 5.5516e-03, 3.5441e-04, 1.9819e-01, 4.1948e-01,\n",
      "        2.4359e-02, 1.1907e-01, 1.0317e-02, 1.8638e-01],\n",
      "       grad_fn=<SoftmaxBackward>)\n",
      "------------- tensor(1.) ------------------\n",
      "tensor([ 0.6525, -0.1785, -0.0792, -1.0076,  1.1531,  1.0315,  0.6684,  0.3902,\n",
      "         0.5858,  0.5833], grad_fn=<AddBackward0>)\n",
      "tensor([0.1127, 0.0491, 0.0542, 0.0214, 0.1860, 0.1647, 0.1145, 0.0867, 0.1054,\n",
      "        0.1052], grad_fn=<SoftmaxBackward>)\n",
      "tensor([ 0.6714, -0.1977, -0.0969, -1.0231,  1.1343,  1.0141,  0.6497,  0.3717,\n",
      "         0.5681,  0.5652], grad_fn=<AddBackward0>)\n",
      "tensor([0.1165, 0.0488, 0.0540, 0.0214, 0.1851, 0.1641, 0.1140, 0.0863, 0.1051,\n",
      "        0.1047], grad_fn=<SoftmaxBackward>)\n",
      "------------- tensor(1.) ------------------\n",
      "tensor([ 0.6714, -0.1977, -0.0969, -1.0231,  1.1343,  1.0141,  0.6497,  0.3717,\n",
      "         0.5681,  0.5652], grad_fn=<AddBackward0>)\n",
      "tensor([0.1165, 0.0488, 0.0540, 0.0214, 0.1851, 0.1641, 0.1140, 0.0863, 0.1051,\n",
      "        0.1047], grad_fn=<SoftmaxBackward>)\n",
      "tensor([ 0.6897, -0.2168, -0.1154, -1.0400,  1.1160,  0.9976,  0.6307,  0.3538,\n",
      "         0.5497,  0.5478], grad_fn=<AddBackward0>)\n",
      "tensor([0.1203, 0.0486, 0.0538, 0.0213, 0.1842, 0.1636, 0.1134, 0.0860, 0.1046,\n",
      "        0.1044], grad_fn=<SoftmaxBackward>)\n",
      "------------- tensor(1.) ------------------\n",
      "tensor([ 0.6897, -0.2168, -0.1154, -1.0400,  1.1160,  0.9976,  0.6307,  0.3538,\n",
      "         0.5497,  0.5478], grad_fn=<AddBackward0>)\n",
      "tensor([0.1203, 0.0486, 0.0538, 0.0213, 0.1842, 0.1636, 0.1134, 0.0860, 0.1046,\n",
      "        0.1044], grad_fn=<SoftmaxBackward>)\n",
      "tensor([ 0.7077, -0.2357, -0.1343, -1.0578,  1.0981,  0.9819,  0.6114,  0.3364,\n",
      "         0.5308,  0.5311], grad_fn=<AddBackward0>)\n",
      "tensor([0.1241, 0.0483, 0.0535, 0.0212, 0.1834, 0.1632, 0.1127, 0.0856, 0.1040,\n",
      "        0.1040], grad_fn=<SoftmaxBackward>)\n",
      "------------- tensor(1.) ------------------\n",
      "tensor([ 0.7077, -0.2357, -0.1343, -1.0578,  1.0981,  0.9819,  0.6114,  0.3364,\n",
      "         0.5308,  0.5311], grad_fn=<AddBackward0>)\n",
      "tensor([0.1241, 0.0483, 0.0535, 0.0212, 0.1834, 0.1632, 0.1127, 0.0856, 0.1040,\n",
      "        0.1040], grad_fn=<SoftmaxBackward>)\n",
      "tensor([ 0.7253, -0.2546, -0.1536, -1.0762,  1.0804,  0.9667,  0.5920,  0.3194,\n",
      "         0.5115,  0.5148], grad_fn=<AddBackward0>)\n",
      "tensor([0.1280, 0.0480, 0.0531, 0.0211, 0.1825, 0.1629, 0.1120, 0.0853, 0.1033,\n",
      "        0.1037], grad_fn=<SoftmaxBackward>)\n",
      "------------- tensor(4.) ------------------\n",
      "tensor([ 0.0086,  0.5596, -0.9835, -3.7195,  2.6099,  3.3820,  0.4923,  2.1066,\n",
      "        -0.3634,  2.5613], grad_fn=<AddBackward0>)\n",
      "tensor([1.4474e-02, 2.5112e-02, 5.3667e-03, 3.4792e-04, 1.9512e-01, 4.2229e-01,\n",
      "        2.3477e-02, 1.1796e-01, 9.9770e-03, 1.8587e-01],\n",
      "       grad_fn=<SoftmaxBackward>)\n",
      "tensor([ 0.0524,  0.5129, -1.0295, -3.7615,  2.5662,  3.3430,  0.4448,  2.0643,\n",
      "        -0.4093,  2.5204], grad_fn=<AddBackward0>)\n",
      "tensor([1.5737e-02, 2.4942e-02, 5.3341e-03, 3.4720e-04, 1.9439e-01, 4.2268e-01,\n",
      "        2.3299e-02, 1.1767e-01, 9.9175e-03, 1.8568e-01],\n",
      "       grad_fn=<SoftmaxBackward>)\n",
      "------------- tensor(5.) ------------------\n",
      "tensor([-0.1781,  0.7751, -1.3155, -4.6510,  3.0676,  4.1407,  0.4019,  2.6519,\n",
      "        -0.7103,  3.1948], grad_fn=<AddBackward0>)\n",
      "tensor([6.5283e-03, 1.6934e-02, 2.0933e-03, 7.4511e-05, 1.6765e-01, 4.9023e-01,\n",
      "        1.1660e-02, 1.1062e-01, 3.8340e-03, 1.9037e-01],\n",
      "       grad_fn=<SoftmaxBackward>)\n",
      "tensor([-0.1234,  0.7188, -1.3667, -4.6963,  3.0131,  4.0903,  0.3474,  2.5984,\n",
      "        -0.7612,  3.1425], grad_fn=<AddBackward0>)\n",
      "tensor([7.2579e-03, 1.6848e-02, 2.0934e-03, 7.4960e-05, 1.6709e-01, 4.9064e-01,\n",
      "        1.1621e-02, 1.1037e-01, 3.8352e-03, 1.9017e-01],\n",
      "       grad_fn=<SoftmaxBackward>)\n",
      "------------- tensor(6.) ------------------\n",
      "tensor([-0.3449,  0.9715, -1.6613, -5.5934,  3.5055,  4.8798,  0.2952,  3.1773,\n",
      "        -1.0709,  3.8084], grad_fn=<AddBackward0>)\n",
      "tensor([2.9613e-03, 1.1045e-02, 7.9388e-04, 1.5562e-05, 1.3921e-01, 5.5020e-01,\n",
      "        5.6168e-03, 1.0026e-01, 1.4328e-03, 1.8846e-01],\n",
      "       grad_fn=<SoftmaxBackward>)\n",
      "tensor([-0.2789,  0.9064, -1.7159, -5.6408,  3.4398,  4.8180,  0.2355,  3.1123,\n",
      "        -1.1252,  3.7444], grad_fn=<AddBackward0>)\n",
      "tensor([3.3679e-03, 1.1018e-02, 8.0031e-04, 1.5802e-05, 1.3879e-01, 5.5069e-01,\n",
      "        5.6329e-03, 1.0003e-01, 1.4448e-03, 1.8822e-01],\n",
      "       grad_fn=<SoftmaxBackward>)\n",
      "------------- tensor(7.) ------------------\n",
      "tensor([-0.4911,  1.1497, -2.0185, -6.5448,  3.9229,  5.5989,  0.1746,  3.6820,\n",
      "        -1.4427,  4.4013], grad_fn=<AddBackward0>)\n",
      "tensor([1.3682e-03, 7.0586e-03, 2.9702e-04, 3.2141e-06, 1.1301e-01, 6.0391e-01,\n",
      "        2.6623e-03, 8.8813e-02, 5.2829e-04, 1.8235e-01],\n",
      "       grad_fn=<SoftmaxBackward>)\n",
      "tensor([-0.4135,  1.0771, -2.0752, -6.5935,  3.8462,  5.5255,  0.1113,  3.6053,\n",
      "        -1.4991,  4.3255], grad_fn=<AddBackward0>)\n",
      "tensor([1.5925e-03, 7.0698e-03, 3.0226e-04, 3.2970e-06, 1.1273e-01, 6.0444e-01,\n",
      "        2.6915e-03, 8.8591e-02, 5.3779e-04, 1.8204e-01],\n",
      "       grad_fn=<SoftmaxBackward>)\n",
      "------------- tensor(8.) ------------------\n",
      "tensor([-0.6160,  1.3111, -2.3851, -7.5036,  4.3197,  6.2974,  0.0424,  4.1654,\n",
      "        -1.8237,  4.9730], grad_fn=<AddBackward0>)\n",
      "tensor([6.4858e-04, 4.4556e-03, 1.1058e-04, 6.6178e-07, 9.0266e-02, 6.5224e-01,\n",
      "        1.2529e-03, 7.7359e-02, 1.9385e-04, 1.7348e-01],\n",
      "       grad_fn=<SoftmaxBackward>)\n",
      "tensor([-0.5265,  1.2325, -2.4429, -7.5531,  4.2324,  6.2121, -0.0230,  4.0769,\n",
      "        -1.8812,  4.8849], grad_fn=<AddBackward0>)\n",
      "tensor([7.7296e-04, 4.4886e-03, 1.1373e-04, 6.8637e-07, 9.0143e-02, 6.5273e-01,\n",
      "        1.2789e-03, 7.7166e-02, 1.9945e-04, 1.7311e-01],\n",
      "       grad_fn=<SoftmaxBackward>)\n",
      "------------- tensor(9.) ------------------\n",
      "tensor([-0.7192,  1.4577, -2.7593, -8.4688,  4.6961,  6.9746, -0.0993,  4.6273,\n",
      "        -2.2124,  5.5227], grad_fn=<AddBackward0>)\n",
      "tensor([3.1694e-04, 2.7949e-03, 4.1208e-05, 1.3658e-07, 7.1251e-02, 6.9558e-01,\n",
      "        5.8909e-04, 6.6513e-02, 7.1202e-05, 1.6285e-01],\n",
      "       grad_fn=<SoftmaxBackward>)\n",
      "tensor([-0.6175,  1.3747, -2.8175, -8.5184,  4.5987,  6.8771, -0.1657,  4.5271,\n",
      "        -2.2703,  5.4221], grad_fn=<AddBackward0>)\n",
      "tensor([3.8699e-04, 2.8372e-03, 4.2879e-05, 1.4334e-07, 7.1296e-02, 6.9595e-01,\n",
      "        6.0799e-04, 6.6373e-02, 7.4116e-05, 1.6243e-01],\n",
      "       grad_fn=<SoftmaxBackward>)\n",
      "------------- tensor(1.) ------------------\n",
      "tensor([ 0.8421, -0.3587, -0.2396, -1.1534,  0.9680,  0.8548,  0.4990,  0.2052,\n",
      "         0.4259,  0.4004], grad_fn=<AddBackward0>)\n",
      "tensor([0.1547, 0.0466, 0.0525, 0.0210, 0.1755, 0.1567, 0.1098, 0.0818, 0.1020,\n",
      "        0.0995], grad_fn=<SoftmaxBackward>)\n",
      "tensor([ 0.8615, -0.3745, -0.2524, -1.1653,  0.9498,  0.8361,  0.4853,  0.1864,\n",
      "         0.4131,  0.3812], grad_fn=<AddBackward0>)\n",
      "tensor([0.1595, 0.0463, 0.0524, 0.0210, 0.1742, 0.1555, 0.1095, 0.0812, 0.1018,\n",
      "        0.0987], grad_fn=<SoftmaxBackward>)\n"
     ]
    },
    {
     "name": "stderr",
     "output_type": "stream",
     "text": [
      "/Application/DataScience/Anaconda/anaconda3/lib/python3.6/site-packages/ipykernel_launcher.py:12: UserWarning: Implicit dimension choice for softmax has been deprecated. Change the call to include dim=X as an argument.\n",
      "  if sys.path[0] == '':\n",
      "/Application/DataScience/Anaconda/anaconda3/lib/python3.6/site-packages/ipykernel_launcher.py:14: UserWarning: Implicit dimension choice for softmax has been deprecated. Change the call to include dim=X as an argument.\n",
      "  \n",
      "/Application/DataScience/Anaconda/anaconda3/lib/python3.6/site-packages/ipykernel_launcher.py:21: UserWarning: Implicit dimension choice for softmax has been deprecated. Change the call to include dim=X as an argument.\n"
     ]
    }
   ],
   "source": [
    "net =Net()\n",
    "out_lst = []\n",
    "sm_out_lst = []\n",
    "loss_lst = []\n",
    "optimizer1 = optim.Adam(params=net.parameters(),lr=0.001)\n",
    "vl = torch.FloatTensor([1,2,3,4,1,1,1,1,4,5,6,7,8,9,1])\n",
    "for i in vl:\n",
    "    print('-------------',i,'------------------')\n",
    "    optimizer1.zero_grad()\n",
    "    out = net(i.view(-1))\n",
    "    print(out)\n",
    "    print(sm(out))\n",
    "    out_lst.append(out)\n",
    "    sm_out = sm(out)\n",
    "    sm_out_lst.append(sm_out)\n",
    "    output = loss(out.view(-1,10), target)\n",
    "    loss_lst.append(output)\n",
    "    output.backward()\n",
    "    optimizer1.step()\n",
    "    print(net(i.view(-1)))\n",
    "    print(sm(net(i.view(-1))))"
   ]
  },
  {
   "cell_type": "code",
   "execution_count": 442,
   "metadata": {},
   "outputs": [
    {
     "data": {
      "text/plain": [
       "[tensor([-1.1472, -1.1883, -1.2490, -0.5227, -0.0541, -0.0662,  0.3454,  0.7738,\n",
       "          1.0398, -0.5459], grad_fn=<AddBackward0>)]"
      ]
     },
     "execution_count": 442,
     "metadata": {},
     "output_type": "execute_result"
    }
   ],
   "source": [
    "out_lst"
   ]
  },
  {
   "cell_type": "code",
   "execution_count": 423,
   "metadata": {},
   "outputs": [
    {
     "data": {
      "text/plain": [
       "[tensor([0.0835, 0.1783, 0.0863, 0.1236, 0.0327, 0.0624, 0.0914, 0.0215, 0.1793,\n",
       "         0.1409], grad_fn=<SoftmaxBackward>),\n",
       " tensor([0.1197, 0.1712, 0.0829, 0.1187, 0.0314, 0.0600, 0.0878, 0.0207, 0.1722,\n",
       "         0.1353], grad_fn=<SoftmaxBackward>),\n",
       " tensor([0.1686, 0.1617, 0.0783, 0.1121, 0.0297, 0.0566, 0.0829, 0.0195, 0.1626,\n",
       "         0.1278], grad_fn=<SoftmaxBackward>),\n",
       " tensor([0.2323, 0.1493, 0.0723, 0.1035, 0.0274, 0.0523, 0.0766, 0.0180, 0.1502,\n",
       "         0.1180], grad_fn=<SoftmaxBackward>),\n",
       " tensor([0.3110, 0.1340, 0.0649, 0.0929, 0.0246, 0.0469, 0.0687, 0.0162, 0.1348,\n",
       "         0.1059], grad_fn=<SoftmaxBackward>),\n",
       " tensor([0.4025, 0.1162, 0.0563, 0.0806, 0.0213, 0.0407, 0.0596, 0.0140, 0.1169,\n",
       "         0.0919], grad_fn=<SoftmaxBackward>),\n",
       " tensor([0.5012, 0.0970, 0.0470, 0.0673, 0.0178, 0.0340, 0.0498, 0.0117, 0.0976,\n",
       "         0.0767], grad_fn=<SoftmaxBackward>),\n",
       " tensor([0.5998, 0.0778, 0.0377, 0.0540, 0.0143, 0.0273, 0.0399, 0.0094, 0.0783,\n",
       "         0.0615], grad_fn=<SoftmaxBackward>),\n",
       " tensor([0.6910, 0.0601, 0.0291, 0.0417, 0.0110, 0.0211, 0.0308, 0.0073, 0.0605,\n",
       "         0.0475], grad_fn=<SoftmaxBackward>),\n",
       " tensor([0.7694, 0.0449, 0.0217, 0.0311, 0.0082, 0.0157, 0.0230, 0.0054, 0.0451,\n",
       "         0.0355], grad_fn=<SoftmaxBackward>),\n",
       " tensor([0.8327, 0.0325, 0.0158, 0.0226, 0.0060, 0.0114, 0.0167, 0.0039, 0.0327,\n",
       "         0.0257], grad_fn=<SoftmaxBackward>),\n",
       " tensor([0.8813, 0.0231, 0.0112, 0.0160, 0.0042, 0.0081, 0.0118, 0.0028, 0.0232,\n",
       "         0.0183], grad_fn=<SoftmaxBackward>),\n",
       " tensor([0.9172, 0.0161, 0.0078, 0.0112, 0.0030, 0.0056, 0.0083, 0.0019, 0.0162,\n",
       "         0.0127], grad_fn=<SoftmaxBackward>),\n",
       " tensor([0.9429, 0.0111, 0.0054, 0.0077, 0.0020, 0.0039, 0.0057, 0.0013, 0.0112,\n",
       "         0.0088], grad_fn=<SoftmaxBackward>),\n",
       " tensor([9.6101e-01, 7.5846e-03, 3.6707e-03, 5.2583e-03, 1.3922e-03, 2.6563e-03,\n",
       "         3.8897e-03, 9.1525e-04, 7.6277e-03, 5.9942e-03],\n",
       "        grad_fn=<SoftmaxBackward>),\n",
       " tensor([9.7352e-01, 5.1503e-03, 2.4927e-03, 3.5707e-03, 9.4543e-04, 1.8038e-03,\n",
       "         2.6413e-03, 6.2154e-04, 5.1796e-03, 4.0704e-03],\n",
       "        grad_fn=<SoftmaxBackward>),\n",
       " tensor([9.8210e-01, 3.4828e-03, 1.6856e-03, 2.4146e-03, 6.3937e-04, 1.2198e-03,\n",
       "         1.7862e-03, 4.2034e-04, 3.5026e-03, 2.7525e-03],\n",
       "        grad_fn=<SoftmaxBackward>),\n",
       " tensor([9.8793e-01, 2.3485e-03, 1.1367e-03, 1.6282e-03, 4.3117e-04, 8.2258e-04,\n",
       "         1.2045e-03, 2.8348e-04, 2.3619e-03, 1.8561e-03],\n",
       "        grad_fn=<SoftmaxBackward>),\n",
       " tensor([9.9187e-01, 1.5806e-03, 7.6502e-04, 1.0959e-03, 2.9022e-04, 5.5364e-04,\n",
       "         8.1065e-04, 1.9083e-04, 1.5896e-03, 1.2492e-03],\n",
       "        grad_fn=<SoftmaxBackward>),\n",
       " tensor([9.9454e-01, 1.0624e-03, 5.1423e-04, 7.3659e-04, 1.9511e-04, 3.7216e-04,\n",
       "         5.4490e-04, 1.2830e-04, 1.0684e-03, 8.3966e-04],\n",
       "        grad_fn=<SoftmaxBackward>)]"
      ]
     },
     "execution_count": 423,
     "metadata": {},
     "output_type": "execute_result"
    }
   ],
   "source": [
    "sm_out_lst"
   ]
  },
  {
   "cell_type": "code",
   "execution_count": 424,
   "metadata": {},
   "outputs": [
    {
     "data": {
      "text/plain": [
       "[tensor(2.4825, grad_fn=<NllLossBackward>),\n",
       " tensor(2.1227, grad_fn=<NllLossBackward>),\n",
       " tensor(1.7800, grad_fn=<NllLossBackward>),\n",
       " tensor(1.4596, grad_fn=<NllLossBackward>),\n",
       " tensor(1.1678, grad_fn=<NllLossBackward>),\n",
       " tensor(0.9102, grad_fn=<NllLossBackward>),\n",
       " tensor(0.6908, grad_fn=<NllLossBackward>),\n",
       " tensor(0.5111, grad_fn=<NllLossBackward>),\n",
       " tensor(0.3696, grad_fn=<NllLossBackward>),\n",
       " tensor(0.2622, grad_fn=<NllLossBackward>),\n",
       " tensor(0.1831, grad_fn=<NllLossBackward>),\n",
       " tensor(0.1264, grad_fn=<NllLossBackward>),\n",
       " tensor(0.0864, grad_fn=<NllLossBackward>),\n",
       " tensor(0.0588, grad_fn=<NllLossBackward>),\n",
       " tensor(0.0398, grad_fn=<NllLossBackward>),\n",
       " tensor(0.0268, grad_fn=<NllLossBackward>),\n",
       " tensor(0.0181, grad_fn=<NllLossBackward>),\n",
       " tensor(0.0121, grad_fn=<NllLossBackward>),\n",
       " tensor(0.0082, grad_fn=<NllLossBackward>),\n",
       " tensor(0.0055, grad_fn=<NllLossBackward>)]"
      ]
     },
     "execution_count": 424,
     "metadata": {},
     "output_type": "execute_result"
    }
   ],
   "source": [
    "loss_lst"
   ]
  },
  {
   "cell_type": "code",
   "execution_count": null,
   "metadata": {},
   "outputs": [],
   "source": []
  }
 ],
 "metadata": {
  "kernelspec": {
   "display_name": "Python 3",
   "language": "python",
   "name": "python3"
  },
  "language_info": {
   "codemirror_mode": {
    "name": "ipython",
    "version": 3
   },
   "file_extension": ".py",
   "mimetype": "text/x-python",
   "name": "python",
   "nbconvert_exporter": "python",
   "pygments_lexer": "ipython3",
   "version": "3.6.8"
  }
 },
 "nbformat": 4,
 "nbformat_minor": 2
}
